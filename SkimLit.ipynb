{
  "cells": [
    {
      "cell_type": "markdown",
      "metadata": {
        "id": "p75_HuR_uB7f"
      },
      "source": [
        "## Data - Fetch and Preprocessing"
      ]
    },
    {
      "cell_type": "code",
      "execution_count": null,
      "metadata": {
        "colab": {
          "base_uri": "https://localhost:8080/"
        },
        "id": "iATU9NqXuBIm",
        "outputId": "fb97aa90-eb27-45a9-f2b1-0a11da2400f2"
      },
      "outputs": [
        {
          "output_type": "stream",
          "name": "stdout",
          "text": [
            "fatal: destination path 'pubmed-rct' already exists and is not an empty directory.\n",
            "PubMed_200k_RCT\n",
            "PubMed_200k_RCT_numbers_replaced_with_at_sign\n",
            "PubMed_20k_RCT\n",
            "PubMed_20k_RCT_numbers_replaced_with_at_sign\n",
            "README.md\n"
          ]
        }
      ],
      "source": [
        "!git clone https://github.com/Franck-Dernoncourt/pubmed-rct.git\n",
        "!ls pubmed-rct"
      ]
    },
    {
      "cell_type": "code",
      "execution_count": null,
      "metadata": {
        "colab": {
          "base_uri": "https://localhost:8080/"
        },
        "id": "ORPEa7rSuVNN",
        "outputId": "b1dba91c-a8a4-4b12-90b0-88703ce494d7"
      },
      "outputs": [
        {
          "output_type": "execute_result",
          "data": {
            "text/plain": [
              "['pubmed-rct/PubMed_20k_RCT/dev.txt',\n",
              " 'pubmed-rct/PubMed_20k_RCT/train.txt',\n",
              " 'pubmed-rct/PubMed_20k_RCT/test.txt']"
            ]
          },
          "metadata": {},
          "execution_count": 2
        }
      ],
      "source": [
        "data_dir = \"pubmed-rct/PubMed_20k_RCT/\"\n",
        "\n",
        "import os\n",
        "filenames = [data_dir + filename for filename in os.listdir(data_dir)]\n",
        "filenames"
      ]
    },
    {
      "cell_type": "markdown",
      "source": [
        "## Model_1 - Only Token Embeddings"
      ],
      "metadata": {
        "id": "YfOJX3MRO4zh"
      }
    },
    {
      "cell_type": "code",
      "execution_count": null,
      "metadata": {
        "id": "3OUG8Tsku5kG"
      },
      "outputs": [],
      "source": [
        "def clean_data(data):\n",
        "  sentences = []\n",
        "  labels = []\n",
        "  t_len = 0\n",
        "  for s in data:\n",
        "    if s.startswith('O'):\n",
        "      labels.append(0)\n",
        "      s = s[10:]\n",
        "    elif s.startswith('M'):\n",
        "      labels.append(1)\n",
        "      s = s[8:]\n",
        "    elif s.startswith('R'):\n",
        "      labels.append(2)\n",
        "      s = s[8:]\n",
        "    elif s.startswith('C'):\n",
        "      labels.append(3)\n",
        "      s = s[11:]\n",
        "    elif s.startswith('B'):\n",
        "      labels.append(4)\n",
        "      s = s[12:]\n",
        "    else:\n",
        "      #print(s)\n",
        "      continue\n",
        "    s = s.replace('\\n', \"\").replace('\\t', \" \")\n",
        "    t_len += len(s.split(' '))\n",
        "    sentences.append(s)\n",
        "  if len(sentences) == len(labels):\n",
        "    return sentences, labels, t_len, len(sentences)"
      ]
    },
    {
      "cell_type": "markdown",
      "metadata": {
        "id": "uUJgN0sW8V-A"
      },
      "source": [
        "###train_data"
      ]
    },
    {
      "cell_type": "code",
      "execution_count": null,
      "metadata": {
        "id": "FUlwUf1rBDLF"
      },
      "outputs": [],
      "source": [
        "import pandas as pd\n"
      ]
    },
    {
      "cell_type": "code",
      "execution_count": null,
      "metadata": {
        "colab": {
          "base_uri": "https://localhost:8080/"
        },
        "id": "TQglF4Avupf_",
        "outputId": "501e2e12-ab90-4afb-f70f-6057cd9c6875"
      },
      "outputs": [
        {
          "output_type": "execute_result",
          "data": {
            "text/plain": [
              "210040"
            ]
          },
          "metadata": {},
          "execution_count": 5
        }
      ],
      "source": [
        "with open(filenames[1], \"r\") as f:\n",
        "  train_data = f.readlines()\n",
        "\n",
        "len(train_data)"
      ]
    },
    {
      "cell_type": "code",
      "execution_count": null,
      "metadata": {
        "colab": {
          "base_uri": "https://localhost:8080/"
        },
        "id": "JRT4_Kgov7Wv",
        "outputId": "1dc2c329-561f-4727-a491-3647b23c8e03"
      },
      "outputs": [
        {
          "output_type": "execute_result",
          "data": {
            "text/plain": [
              "1    59353\n",
              "2    57953\n",
              "3    27168\n",
              "4    21727\n",
              "0    13839\n",
              "Name: labels, dtype: int64"
            ]
          },
          "metadata": {},
          "execution_count": 6
        }
      ],
      "source": [
        "t_sentences, t_labels, t_len, l = clean_data(train_data)\n",
        "train_clean = pd.DataFrame({'sentences':t_sentences, 'labels':t_labels})\n",
        "train_clean['labels'].value_counts()"
      ]
    },
    {
      "cell_type": "markdown",
      "metadata": {
        "id": "ABNw-kbS8YMn"
      },
      "source": [
        "###valid data"
      ]
    },
    {
      "cell_type": "code",
      "execution_count": null,
      "metadata": {
        "colab": {
          "base_uri": "https://localhost:8080/"
        },
        "id": "uavwqgn38aKr",
        "outputId": "6a0a607e-fa60-49fd-8e7d-5c684f865b74"
      },
      "outputs": [
        {
          "output_type": "execute_result",
          "data": {
            "text/plain": [
              "35212"
            ]
          },
          "metadata": {},
          "execution_count": 7
        }
      ],
      "source": [
        "with open(filenames[0], \"r\") as f:\n",
        "  valid_data = f.readlines()\n",
        "\n",
        "len(valid_data)"
      ]
    },
    {
      "cell_type": "code",
      "execution_count": null,
      "metadata": {
        "colab": {
          "base_uri": "https://localhost:8080/"
        },
        "id": "BILaBp6k8aDU",
        "outputId": "8c384382-9fc6-4c3a-ee78-8055b6f63b63"
      },
      "outputs": [
        {
          "output_type": "execute_result",
          "data": {
            "text/plain": [
              "1    9964\n",
              "2    9841\n",
              "3    4582\n",
              "4    3449\n",
              "0    2376\n",
              "Name: labels, dtype: int64"
            ]
          },
          "metadata": {},
          "execution_count": 8
        }
      ],
      "source": [
        "v_sentences, v_labels, v_len, v_l = clean_data(valid_data)\n",
        "valid_clean = pd.DataFrame({'sentences':v_sentences, 'labels':v_labels})\n",
        "valid_clean['labels'].value_counts()"
      ]
    },
    {
      "cell_type": "markdown",
      "metadata": {
        "id": "OWsKrGBT4NT1"
      },
      "source": [
        "### Base Model"
      ]
    },
    {
      "cell_type": "code",
      "execution_count": null,
      "metadata": {
        "id": "dcsp7_YC4Mk9"
      },
      "outputs": [],
      "source": [
        "import tensorflow as tf\n",
        "from tensorflow.keras import layers"
      ]
    },
    {
      "cell_type": "code",
      "execution_count": null,
      "metadata": {
        "colab": {
          "base_uri": "https://localhost:8080/"
        },
        "id": "RFD9falz5wNT",
        "outputId": "1c12bc56-d24b-4e07-be1f-a24e16fd91fe"
      },
      "outputs": [
        {
          "output_type": "execute_result",
          "data": {
            "text/plain": [
              "26.489335703177073"
            ]
          },
          "metadata": {},
          "execution_count": 10
        }
      ],
      "source": [
        "t_len/l"
      ]
    },
    {
      "cell_type": "code",
      "execution_count": null,
      "metadata": {
        "id": "eVFOnAyv0wTo"
      },
      "outputs": [],
      "source": [
        "tokenizer = layers.TextVectorization(max_tokens = 68000, output_sequence_length=55)"
      ]
    },
    {
      "cell_type": "code",
      "execution_count": null,
      "metadata": {
        "id": "tIMr9-hC6tPV"
      },
      "outputs": [],
      "source": [
        "tokenizer.adapt(t_sentences)"
      ]
    },
    {
      "cell_type": "code",
      "execution_count": null,
      "metadata": {
        "colab": {
          "base_uri": "https://localhost:8080/"
        },
        "id": "lBQEuiRF6w5d",
        "outputId": "e1747f2f-2c28-4ff7-a467-b2eee1da07cb"
      },
      "outputs": [
        {
          "output_type": "execute_result",
          "data": {
            "text/plain": [
              "<tf.Tensor: shape=(55,), dtype=int64, numpy=\n",
              "array([  53,  194,   12,   15, 2040,   56, 1234,  374,   40,  991,    3,\n",
              "        374,  590, 1270, 3152, 1745, 7173,    3,   57, 1154,    5,    2,\n",
              "          1,   33,    0,    0,    0,    0,    0,    0,    0,    0,    0,\n",
              "          0,    0,    0,    0,    0,    0,    0,    0,    0,    0,    0,\n",
              "          0,    0,    0,    0,    0,    0,    0,    0,    0,    0,    0])>"
            ]
          },
          "metadata": {},
          "execution_count": 13
        }
      ],
      "source": [
        "tokenizer(t_sentences[90])"
      ]
    },
    {
      "cell_type": "code",
      "execution_count": null,
      "metadata": {
        "colab": {
          "base_uri": "https://localhost:8080/"
        },
        "id": "6zj-WWxN62x4",
        "outputId": "2e6dc849-794f-459a-ae95-cec88441f8fa"
      },
      "outputs": [
        {
          "output_type": "stream",
          "name": "stdout",
          "text": [
            "Model: \"base-model\"\n",
            "_________________________________________________________________\n",
            " Layer (type)                Output Shape              Param #   \n",
            "=================================================================\n",
            " input_1 (InputLayer)        [(None, 1)]               0         \n",
            "                                                                 \n",
            " text_vectorization (TextVec  (None, 55)               0         \n",
            " torization)                                                     \n",
            "                                                                 \n",
            " embedding (Embedding)       (None, 55, 128)           8704000   \n",
            "                                                                 \n",
            " lstm (LSTM)                 (None, 64)                49408     \n",
            "                                                                 \n",
            " dense (Dense)               (None, 5)                 325       \n",
            "                                                                 \n",
            "=================================================================\n",
            "Total params: 8,753,733\n",
            "Trainable params: 8,753,733\n",
            "Non-trainable params: 0\n",
            "_________________________________________________________________\n"
          ]
        }
      ],
      "source": [
        "##Model\n",
        "\n",
        "inputs = layers.Input(shape=(1, ), dtype='string')\n",
        "tokens = tokenizer(inputs)\n",
        "embeddings = layers.Embedding(input_dim=68000, \n",
        "                              output_dim=128,\n",
        "                              input_length=55)(tokens)\n",
        "x = layers.LSTM(64)(embeddings)\n",
        "outputs = layers.Dense(5, activation='softmax')(x)\n",
        "\n",
        "model = tf.keras.Model(inputs, outputs, name=\"base-model\")\n",
        "\n",
        "model.summary()"
      ]
    },
    {
      "cell_type": "code",
      "execution_count": null,
      "metadata": {
        "id": "vC4WUjwr8Bjy"
      },
      "outputs": [],
      "source": [
        "model.compile(loss = tf.keras.losses.SparseCategoricalCrossentropy(),\n",
        "              optimizer=tf.keras.optimizers.Adam(),\n",
        "              metrics=['accuracy'])"
      ]
    },
    {
      "cell_type": "code",
      "execution_count": null,
      "metadata": {
        "colab": {
          "base_uri": "https://localhost:8080/"
        },
        "id": "x8RhqfJVFvUS",
        "outputId": "e907f29c-e2c6-4bbc-9873-d29677ef2875"
      },
      "outputs": [
        {
          "output_type": "execute_result",
          "data": {
            "text/plain": [
              "<_PrefetchDataset element_spec=(TensorSpec(shape=(None,), dtype=tf.string, name=None), TensorSpec(shape=(None,), dtype=tf.int32, name=None))>"
            ]
          },
          "metadata": {},
          "execution_count": 16
        }
      ],
      "source": [
        "train_dataset = tf.data.Dataset.from_tensor_slices((t_sentences,t_labels))\n",
        "valid_dataset = tf.data.Dataset.from_tensor_slices((v_sentences, v_labels))\n",
        "\n",
        "train_dataset = train_dataset.batch(32).prefetch(tf.data.AUTOTUNE)\n",
        "valid_dataset = valid_dataset.batch(32).prefetch(tf.data.AUTOTUNE)\n",
        "\n",
        "train_dataset"
      ]
    },
    {
      "cell_type": "code",
      "execution_count": null,
      "metadata": {
        "colab": {
          "base_uri": "https://localhost:8080/"
        },
        "id": "VfAGGE_oGt-h",
        "outputId": "71485799-ff0d-4ded-c55f-ab1f88324c8c"
      },
      "outputs": [
        {
          "output_type": "execute_result",
          "data": {
            "text/plain": [
              "180040"
            ]
          },
          "metadata": {},
          "execution_count": 17
        }
      ],
      "source": [
        "len(t_labels)"
      ]
    },
    {
      "cell_type": "code",
      "execution_count": null,
      "metadata": {
        "colab": {
          "base_uri": "https://localhost:8080/"
        },
        "id": "iv4dvxL1G9dn",
        "outputId": "eb0e7ba4-50a6-42e2-f6a7-add1977c6fc7"
      },
      "outputs": [
        {
          "output_type": "stream",
          "name": "stdout",
          "text": [
            "Epoch 1/5\n",
            "562/562 [==============================] - 21s 37ms/step - loss: 1.2489 - accuracy: 0.3852 - val_loss: 1.1835 - val_accuracy: 0.4039\n",
            "Epoch 2/5\n",
            "562/562 [==============================] - 9s 16ms/step - loss: 1.2050 - accuracy: 0.4077 - val_loss: 1.2027 - val_accuracy: 0.3993\n",
            "Epoch 3/5\n",
            "562/562 [==============================] - 7s 13ms/step - loss: 1.2138 - accuracy: 0.3972 - val_loss: 1.2497 - val_accuracy: 0.3584\n",
            "Epoch 4/5\n",
            "562/562 [==============================] - 5s 9ms/step - loss: 1.2775 - accuracy: 0.3969 - val_loss: 1.2805 - val_accuracy: 0.4049\n",
            "Epoch 5/5\n",
            "562/562 [==============================] - 7s 12ms/step - loss: 1.1622 - accuracy: 0.4996 - val_loss: 1.0409 - val_accuracy: 0.6104\n"
          ]
        }
      ],
      "source": [
        "history = model.fit(train_dataset, steps_per_epoch=int(0.1*len(train_dataset)),\n",
        "                    epochs=5, validation_data=valid_dataset, validation_steps=int(0.1*len(valid_dataset)),\n",
        "                    verbose=1)"
      ]
    },
    {
      "cell_type": "markdown",
      "source": [
        "## Model_2 - Character Embeddings + Word Embeddings\n",
        "\n",
        "Using the word embeddings from previous cells."
      ],
      "metadata": {
        "id": "0AGTuxxnPCYc"
      }
    },
    {
      "cell_type": "code",
      "source": [
        "def get_chars(s):\n",
        "  sentences = []\n",
        "  t_len = 0\n",
        "  s = \" \".join(list(s))\n",
        "  return s"
      ],
      "metadata": {
        "id": "KOpqbhxVP6yl"
      },
      "execution_count": null,
      "outputs": []
    },
    {
      "cell_type": "code",
      "execution_count": null,
      "metadata": {
        "id": "SXlJEfvp-QwT",
        "colab": {
          "base_uri": "https://localhost:8080/"
        },
        "outputId": "146d529e-2ea0-4d12-e885-a18ed6230b87"
      },
      "outputs": [
        {
          "output_type": "execute_result",
          "data": {
            "text/plain": [
              "('To investigate the efficacy of 6 weeks of daily low-dose oral prednisolone in improving pain , mobility , and systemic low-grade inflammation in the short term and whether the effect would be sustained at 12 weeks in older adults with moderate to severe knee osteoarthritis ( OA ) .',\n",
              " 'T o   i n v e s t i g a t e   t h e   e f f i c a c y   o f   6   w e e k s   o f   d a i l y   l o w - d o s e   o r a l   p r e d n i s o l o n e   i n   i m p r o v i n g   p a i n   ,   m o b i l i t y   ,   a n d   s y s t e m i c   l o w - g r a d e   i n f l a m m a t i o n   i n   t h e   s h o r t   t e r m   a n d   w h e t h e r   t h e   e f f e c t   w o u l d   b e   s u s t a i n e d   a t   1 2   w e e k s   i n   o l d e r   a d u l t s   w i t h   m o d e r a t e   t o   s e v e r e   k n e e   o s t e o a r t h r i t i s   (   O A   )   .')"
            ]
          },
          "metadata": {},
          "execution_count": 21
        }
      ],
      "source": [
        "t_sentences[0], get_chars(t_sentences[0])"
      ]
    },
    {
      "cell_type": "code",
      "source": [
        "import numpy as np"
      ],
      "metadata": {
        "id": "M_tvoaDXZ5SO"
      },
      "execution_count": null,
      "outputs": []
    },
    {
      "cell_type": "code",
      "source": [
        "import matplotlib.pyplot as plt\n",
        "\n",
        "t_chars = []\n",
        "for s in t_sentences:\n",
        "  t_chars.append(get_chars(s))\n",
        "l = [len(i) for i in t_chars]\n",
        "print(np.mean(l))\n",
        "plt.hist(l)"
      ],
      "metadata": {
        "colab": {
          "base_uri": "https://localhost:8080/",
          "height": 221
        },
        "id": "T_3V4JnQXM-N",
        "outputId": "20e5c5fa-ec33-4fe0-ec29-89a4a72fb0ad"
      },
      "execution_count": null,
      "outputs": [
        {
          "output_type": "error",
          "ename": "NameError",
          "evalue": "ignored",
          "traceback": [
            "\u001b[0;31m---------------------------------------------------------------------------\u001b[0m",
            "\u001b[0;31mNameError\u001b[0m                                 Traceback (most recent call last)",
            "\u001b[0;32m<ipython-input-22-f2e93a9e3c7c>\u001b[0m in \u001b[0;36m<cell line: 7>\u001b[0;34m()\u001b[0m\n\u001b[1;32m      5\u001b[0m   \u001b[0mt_chars\u001b[0m\u001b[0;34m.\u001b[0m\u001b[0mappend\u001b[0m\u001b[0;34m(\u001b[0m\u001b[0mget_chars\u001b[0m\u001b[0;34m(\u001b[0m\u001b[0ms\u001b[0m\u001b[0;34m)\u001b[0m\u001b[0;34m)\u001b[0m\u001b[0;34m\u001b[0m\u001b[0;34m\u001b[0m\u001b[0m\n\u001b[1;32m      6\u001b[0m \u001b[0ml\u001b[0m \u001b[0;34m=\u001b[0m \u001b[0;34m[\u001b[0m\u001b[0mlen\u001b[0m\u001b[0;34m(\u001b[0m\u001b[0mi\u001b[0m\u001b[0;34m)\u001b[0m \u001b[0;32mfor\u001b[0m \u001b[0mi\u001b[0m \u001b[0;32min\u001b[0m \u001b[0mt_chars\u001b[0m\u001b[0;34m]\u001b[0m\u001b[0;34m\u001b[0m\u001b[0;34m\u001b[0m\u001b[0m\n\u001b[0;32m----> 7\u001b[0;31m \u001b[0mprint\u001b[0m\u001b[0;34m(\u001b[0m\u001b[0mnp\u001b[0m\u001b[0;34m.\u001b[0m\u001b[0mmean\u001b[0m\u001b[0;34m(\u001b[0m\u001b[0ml\u001b[0m\u001b[0;34m)\u001b[0m\u001b[0;34m)\u001b[0m\u001b[0;34m\u001b[0m\u001b[0;34m\u001b[0m\u001b[0m\n\u001b[0m\u001b[1;32m      8\u001b[0m \u001b[0mplt\u001b[0m\u001b[0;34m.\u001b[0m\u001b[0mhist\u001b[0m\u001b[0;34m(\u001b[0m\u001b[0ml\u001b[0m\u001b[0;34m)\u001b[0m\u001b[0;34m\u001b[0m\u001b[0;34m\u001b[0m\u001b[0m\n",
            "\u001b[0;31mNameError\u001b[0m: name 'np' is not defined"
          ]
        }
      ]
    },
    {
      "cell_type": "code",
      "source": [
        "import string\n",
        "alphabet = string.ascii_lowercase + string.digits + string.punctuation\n",
        "len(alphabet)"
      ],
      "metadata": {
        "colab": {
          "base_uri": "https://localhost:8080/"
        },
        "id": "n_XMydb9VEFQ",
        "outputId": "84951164-f8c6-4bb9-e3fe-c94adcb77929"
      },
      "execution_count": null,
      "outputs": [
        {
          "output_type": "execute_result",
          "data": {
            "text/plain": [
              "68"
            ]
          },
          "metadata": {},
          "execution_count": 24
        }
      ]
    },
    {
      "cell_type": "code",
      "source": [
        "import tensorflow\n",
        "from tensorflow.keras import layers"
      ],
      "metadata": {
        "id": "ejLA14w4Uoft"
      },
      "execution_count": null,
      "outputs": []
    },
    {
      "cell_type": "code",
      "source": [
        "char_tokernizer = layers.TextVectorization(max_tokens=len(alphabet)+2, \n",
        "                                           output_sequence_length = 290)\n",
        "char_tokernizer.adapt(t_chars)"
      ],
      "metadata": {
        "id": "y4rM4BouZHtx"
      },
      "execution_count": null,
      "outputs": []
    },
    {
      "cell_type": "code",
      "source": [
        "t_chars[0], char_tokernizer(t_chars[0])"
      ],
      "metadata": {
        "colab": {
          "base_uri": "https://localhost:8080/"
        },
        "id": "7WqNHnkNZ9zm",
        "outputId": "868a4409-be5c-4fa0-fc02-7000b5ba1ff0"
      },
      "execution_count": null,
      "outputs": [
        {
          "output_type": "execute_result",
          "data": {
            "text/plain": [
              "('T o   i n v e s t i g a t e   t h e   e f f i c a c y   o f   6   w e e k s   o f   d a i l y   l o w - d o s e   o r a l   p r e d n i s o l o n e   i n   i m p r o v i n g   p a i n   ,   m o b i l i t y   ,   a n d   s y s t e m i c   l o w - g r a d e   i n f l a m m a t i o n   i n   t h e   s h o r t   t e r m   a n d   w h e t h e r   t h e   e f f e c t   w o u l d   b e   s u s t a i n e d   a t   1 2   w e e k s   i n   o l d e r   a d u l t s   w i t h   m o d e r a t e   t o   s e v e r e   k n e e   o s t e o a r t h r i t i s   (   O A   )   .',\n",
              " <tf.Tensor: shape=(290,), dtype=int64, numpy=\n",
              " array([ 3,  7,  4,  6, 21,  2,  9,  3,  4, 18,  5,  3,  2,  3, 13,  2,  2,\n",
              "        17, 17,  4, 11,  5, 11, 19,  7, 17, 31, 20,  2,  2, 27,  9,  7, 17,\n",
              "        10,  5,  4, 12, 19, 12,  7, 20, 10,  7,  9,  2,  7,  8,  5, 12, 14,\n",
              "         8,  2, 10,  6,  4,  9,  7, 12,  7,  6,  2,  4,  6,  4, 15, 14,  8,\n",
              "         7, 21,  4,  6, 18, 14,  5,  4,  6, 15,  7, 22,  4, 12,  4,  3, 19,\n",
              "         5,  6, 10,  9, 19,  9,  3,  2, 15,  4, 11, 12,  7, 20, 18,  8,  5,\n",
              "        10,  2,  4,  6, 17, 12,  5, 15, 15,  5,  3,  4,  7,  6,  4,  6,  3,\n",
              "        13,  2,  9, 13,  7,  8,  3,  3,  2,  8, 15,  5,  6, 10, 20, 13,  2,\n",
              "         3, 13,  2,  8,  3, 13,  2,  2, 17, 17,  2, 11,  3, 20,  7, 16, 12,\n",
              "        10, 22,  2,  9, 16,  9,  3,  5,  4,  6,  2, 10,  5,  3, 24, 25, 20,\n",
              "         2,  2, 27,  9,  4,  6,  7, 12, 10,  2,  8,  5, 10, 16, 12,  3,  9,\n",
              "        20,  4,  3, 13, 15,  7, 10,  2,  8,  5,  3,  2,  3,  7,  9,  2, 21,\n",
              "         2,  8,  2, 27,  6,  2,  2,  7,  9,  3,  2,  7,  5,  8,  3, 13,  8,\n",
              "         4,  3,  4,  9,  7,  5,  0,  0,  0,  0,  0,  0,  0,  0,  0,  0,  0,\n",
              "         0,  0,  0,  0,  0,  0,  0,  0,  0,  0,  0,  0,  0,  0,  0,  0,  0,\n",
              "         0,  0,  0,  0,  0,  0,  0,  0,  0,  0,  0,  0,  0,  0,  0,  0,  0,\n",
              "         0,  0,  0,  0,  0,  0,  0,  0,  0,  0,  0,  0,  0,  0,  0,  0,  0,\n",
              "         0])>)"
            ]
          },
          "metadata": {},
          "execution_count": 27
        }
      ]
    },
    {
      "cell_type": "markdown",
      "source": [
        "## SKIMLIT"
      ],
      "metadata": {
        "id": "12i77fzfan6M"
      }
    },
    {
      "cell_type": "code",
      "source": [
        "inputs = layers.Input(shape=(1,), dtype='string')\n",
        "tokens = tokenizer(inputs)\n",
        "embeddings = layers.Embedding(input_dim=68000, \n",
        "                              output_dim=128,\n",
        "                              input_length=55)(tokens)\n",
        "token_outputs = layers.Dense(128, activation=\"relu\")(embeddings)\n",
        "x = layers.LSTM(64)(token_outputs)\n",
        "word_model = tf.keras.Model(inputs, x)\n",
        "\n",
        "\n",
        "char_inputs = layers.Input(shape=(1,), dtype='string')\n",
        "tokens = char_tokernizer(char_inputs)\n",
        "embeddings = layers.Embedding(input_dim=68, \n",
        "                              output_dim=32,\n",
        "                              input_length=290)(tokens)\n",
        "x = layers.Bidirectional(layers.LSTM(64))(embeddings)\n",
        "char_model = tf.keras.Model(inputs=char_inputs,\n",
        "                            outputs=x)\n",
        "\n",
        "op = layers.concatenate([word_model.output, char_model.output])\n",
        "\n",
        "combined_dense = layers.Dense(256, activation=\"relu\")(op)\n",
        "drop_out = layers.Dropout(0.5)(combined_dense)\n",
        "dense_op = layers.Dense(256, activation='relu')(drop_out)\n",
        "drop_out_2 = layers.Dropout(0.5)(dense_op)\n",
        "final_op = layers.Dense(5, activation='softmax')(drop_out_2)\n",
        "\n",
        "final_model = tf.keras.Model(inputs = [word_model.input, char_model.input],\n",
        "                             outputs = final_op)\n",
        "\n",
        "final_model.summary()"
      ],
      "metadata": {
        "colab": {
          "base_uri": "https://localhost:8080/"
        },
        "id": "XGtQ3dISaDCb",
        "outputId": "09a1b257-143c-4ad8-94c0-9458ea5a23c5"
      },
      "execution_count": null,
      "outputs": [
        {
          "output_type": "stream",
          "name": "stdout",
          "text": [
            "Model: \"model_23\"\n",
            "__________________________________________________________________________________________________\n",
            " Layer (type)                   Output Shape         Param #     Connected to                     \n",
            "==================================================================================================\n",
            " input_16 (InputLayer)          [(None, 1)]          0           []                               \n",
            "                                                                                                  \n",
            " text_vectorization (TextVector  (None, 55)          0           ['input_16[0][0]']               \n",
            " ization)                                                                                         \n",
            "                                                                                                  \n",
            " input_17 (InputLayer)          [(None, 1)]          0           []                               \n",
            "                                                                                                  \n",
            " embedding_15 (Embedding)       (None, 55, 128)      8704000     ['text_vectorization[8][0]']     \n",
            "                                                                                                  \n",
            " text_vectorization_1 (TextVect  (None, 290)         0           ['input_17[0][0]']               \n",
            " orization)                                                                                       \n",
            "                                                                                                  \n",
            " dense_26 (Dense)               (None, 55, 128)      16512       ['embedding_15[0][0]']           \n",
            "                                                                                                  \n",
            " embedding_16 (Embedding)       (None, 290, 32)      2176        ['text_vectorization_1[7][0]']   \n",
            "                                                                                                  \n",
            " lstm_15 (LSTM)                 (None, 64)           49408       ['dense_26[0][0]']               \n",
            "                                                                                                  \n",
            " bidirectional_7 (Bidirectional  (None, 128)         49664       ['embedding_16[0][0]']           \n",
            " )                                                                                                \n",
            "                                                                                                  \n",
            " concatenate_7 (Concatenate)    (None, 192)          0           ['lstm_15[0][0]',                \n",
            "                                                                  'bidirectional_7[0][0]']        \n",
            "                                                                                                  \n",
            " dense_27 (Dense)               (None, 256)          49408       ['concatenate_7[0][0]']          \n",
            "                                                                                                  \n",
            " dropout_10 (Dropout)           (None, 256)          0           ['dense_27[0][0]']               \n",
            "                                                                                                  \n",
            " dense_28 (Dense)               (None, 256)          65792       ['dropout_10[0][0]']             \n",
            "                                                                                                  \n",
            " dropout_11 (Dropout)           (None, 256)          0           ['dense_28[0][0]']               \n",
            "                                                                                                  \n",
            " dense_29 (Dense)               (None, 5)            1285        ['dropout_11[0][0]']             \n",
            "                                                                                                  \n",
            "==================================================================================================\n",
            "Total params: 8,938,245\n",
            "Trainable params: 8,938,245\n",
            "Non-trainable params: 0\n",
            "__________________________________________________________________________________________________\n"
          ]
        }
      ]
    },
    {
      "cell_type": "code",
      "source": [
        "tokens_w_c = tf.data.Dataset.from_tensor_slices((t_sentences, t_chars))\n",
        "labels = tf.data.Dataset.from_tensor_slices(t_labels)\n",
        "train_data_final = tf.data.Dataset.zip((tokens_w_c, labels)).batch(32).prefetch(tf.data.AUTOTUNE)"
      ],
      "metadata": {
        "id": "goT9gpyKeLuD"
      },
      "execution_count": null,
      "outputs": []
    },
    {
      "cell_type": "code",
      "source": [
        "v_chars = []\n",
        "for s in v_sentences:\n",
        "  v_chars.append(get_chars(s))"
      ],
      "metadata": {
        "id": "GlZEzkGChhtd"
      },
      "execution_count": null,
      "outputs": []
    },
    {
      "cell_type": "code",
      "source": [
        "v_tokens_w_c = tf.data.Dataset.from_tensor_slices((v_sentences, v_chars))\n",
        "labels_v = tf.data.Dataset.from_tensor_slices((v_labels))\n",
        "valid_data_final = tf.data.Dataset.zip((v_tokens_w_c, labels_v)).batch(32).prefetch(tf.data.AUTOTUNE)"
      ],
      "metadata": {
        "id": "1X6dfChki6k6"
      },
      "execution_count": null,
      "outputs": []
    },
    {
      "cell_type": "code",
      "source": [
        "final_model.compile(\n",
        "    loss = tf.keras.losses.SparseCategoricalCrossentropy(),\n",
        "    optimizer = tf.keras.optimizers.Adam(),\n",
        "    metrics=['accuracy']\n",
        ")"
      ],
      "metadata": {
        "id": "agY7kLSVjdH0"
      },
      "execution_count": null,
      "outputs": []
    },
    {
      "cell_type": "code",
      "source": [
        "final_history = final_model.fit(\n",
        "    train_data_final,\n",
        "    epochs=8,\n",
        "    validation_data=valid_data_final,\n",
        "    \n",
        ")"
      ],
      "metadata": {
        "colab": {
          "base_uri": "https://localhost:8080/"
        },
        "id": "hlzMYQupjzZS",
        "outputId": "2e0990f6-3499-48c0-8289-15483390682f"
      },
      "execution_count": null,
      "outputs": [
        {
          "output_type": "stream",
          "name": "stdout",
          "text": [
            "Epoch 1/8\n",
            "5627/5627 [==============================] - 201s 34ms/step - loss: 0.6426 - accuracy: 0.7591 - val_loss: 0.4470 - val_accuracy: 0.8480\n",
            "Epoch 2/8\n",
            "5627/5627 [==============================] - 154s 27ms/step - loss: 0.3666 - accuracy: 0.8790 - val_loss: 0.4073 - val_accuracy: 0.8680\n",
            "Epoch 3/8\n",
            "5627/5627 [==============================] - 154s 27ms/step - loss: 0.2766 - accuracy: 0.9126 - val_loss: 0.4519 - val_accuracy: 0.8632\n",
            "Epoch 4/8\n",
            "5627/5627 [==============================] - 154s 27ms/step - loss: 0.2196 - accuracy: 0.9328 - val_loss: 0.4841 - val_accuracy: 0.8616\n",
            "Epoch 5/8\n",
            "5627/5627 [==============================] - 154s 27ms/step - loss: 0.1830 - accuracy: 0.9450 - val_loss: 0.5051 - val_accuracy: 0.8651\n",
            "Epoch 6/8\n",
            "5627/5627 [==============================] - 154s 27ms/step - loss: 0.1551 - accuracy: 0.9530 - val_loss: 0.5436 - val_accuracy: 0.8624\n",
            "Epoch 7/8\n",
            "5627/5627 [==============================] - 155s 27ms/step - loss: 0.1325 - accuracy: 0.9594 - val_loss: 0.5955 - val_accuracy: 0.8599\n",
            "Epoch 8/8\n",
            "5627/5627 [==============================] - 153s 27ms/step - loss: 0.1188 - accuracy: 0.9642 - val_loss: 0.6279 - val_accuracy: 0.8626\n"
          ]
        }
      ]
    },
    {
      "cell_type": "code",
      "source": [
        "from keras.utils import plot_model\n",
        "plot_model(final_model)"
      ],
      "metadata": {
        "colab": {
          "base_uri": "https://localhost:8080/",
          "height": 1000
        },
        "id": "rxTOvyimkQQu",
        "outputId": "df6af923-5eb6-49e5-c895-991ca345ef5c"
      },
      "execution_count": null,
      "outputs": [
        {
          "output_type": "execute_result",
          "data": {
            "image/png": "[encoded data removed]",
            "text/plain": [
              "<IPython.core.display.Image object>"
            ]
          },
          "metadata": {},
          "execution_count": 80
        }
      ]
    },
    {
      "cell_type": "code",
      "source": [],
      "metadata": {
        "id": "dIkO1D_h1-Kq"
      },
      "execution_count": null,
      "outputs": []
    }
  ],
  "metadata": {
    "accelerator": "GPU",
    "colab": {
      "provenance": [],
      "gpuType": "T4"
    },
    "gpuClass": "standard",
    "kernelspec": {
      "display_name": "Python 3",
      "name": "python3"
    },
    "language_info": {
      "name": "python"
    }
  },
  "nbformat": 4,
  "nbformat_minor": 0
}